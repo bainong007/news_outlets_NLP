{
 "cells": [
  {
   "cell_type": "markdown",
   "metadata": {
    "ExecuteTime": {
     "end_time": "2019-09-25T23:53:52.079498Z",
     "start_time": "2019-09-25T23:53:52.074136Z"
    },
    "heading_collapsed": true
   },
   "source": [
    "# Goal"
   ]
  },
  {
   "cell_type": "markdown",
   "metadata": {
    "hidden": true
   },
   "source": [
    "3 Questions in mind:\n",
    "\n",
    "1) How biased are the news outlets?\n",
    "\n",
    "2) What has been happening in Hong Kong?\n",
    "\n",
    "3) What topics do different media outlets focus on the most?\n",
    "\n",
    "\n",
    "Data: News Headlines and Intro from 18 newspapers separated by regions\n",
    "\n",
    "- China: CCTV, CGTN, Chinadaily, Global Times, Shine_News, Xinhua\n",
    "- USA: ABC_News, CNN, Fox_News, MSNBC, NBCNews, The New York Times, The Wall Street Journal, The Washington Post, USA_Today\n",
    "- HK: Hong Kong Free Press, Hong Kong Standard, South China Morning Post\n",
    "\n",
    "\n",
    "\n",
    "Answered all three question using\n",
    "\n",
    "1) Sentiment Analysis\n",
    "\n",
    "2) Topic Modeling\n",
    "\n",
    "3) Focused Topics by News Outlets of each regions\n"
   ]
  },
  {
   "cell_type": "markdown",
   "metadata": {
    "heading_collapsed": true
   },
   "source": [
    "# Import Libraries"
   ]
  },
  {
   "cell_type": "code",
   "execution_count": 2,
   "metadata": {
    "ExecuteTime": {
     "end_time": "2019-09-25T23:54:26.477472Z",
     "start_time": "2019-09-25T23:54:12.798479Z"
    },
    "hidden": true
   },
   "outputs": [],
   "source": [
    "import pandas as pd\n",
    "import numpy as np\n",
    "import glob\n",
    "import unicodedata\n",
    "import re\n",
    "import spacy\n",
    "#python -m spacy download en_core_web_md\n",
    "import en_core_web_md\n",
    "nlp = en_core_web_md.load(parse=True, tag=True, entity=True)\n",
    "\n",
    "from contractions import CONTRACTION_MAP\n",
    "\n",
    "from sklearn.decomposition import NMF\n",
    "from sklearn.feature_extraction.text import CountVectorizer\n",
    "from vaderSentiment.vaderSentiment import SentimentIntensityAnalyzer\n",
    "from textblob import TextBlob\n",
    "import nltk\n",
    "#nltk.download('stopwords')\n",
    "stopword_list = nltk.corpus.stopwords.words('english')\n",
    "\n",
    "# Visualization\n",
    "import seaborn as sns\n",
    "import matplotlib.pyplot as plt\n",
    "%matplotlib inline  "
   ]
  },
  {
   "cell_type": "markdown",
   "metadata": {
    "heading_collapsed": true
   },
   "source": [
    "# Functions"
   ]
  },
  {
   "cell_type": "markdown",
   "metadata": {
    "hidden": true
   },
   "source": [
    "#### Helper Functions"
   ]
  },
  {
   "cell_type": "code",
   "execution_count": 3,
   "metadata": {
    "ExecuteTime": {
     "end_time": "2019-09-25T23:54:26.493804Z",
     "start_time": "2019-09-25T23:54:26.478835Z"
    },
    "hidden": true,
    "scrolled": true
   },
   "outputs": [],
   "source": [
    "def display_topics(model, feature_names, no_top_words, topic_names=None):\n",
    "    for ix, topic in enumerate(model.components_):\n",
    "        if not topic_names or not topic_names[ix]:\n",
    "            print(\"\\nTopic \", ix)\n",
    "        else:\n",
    "            print(\"\\nTopic: '\",topic_names[ix],\"'\")\n",
    "        print(\", \".join([feature_names[i]\n",
    "                        for i in topic.argsort()[:-no_top_words - 1:-1]]))\n",
    "        \n",
    "\n",
    "# example) do not -> don't. I would -> I'd\n",
    "def expand_contractions(text, contraction_mapping=CONTRACTION_MAP):\n",
    "    \n",
    "    contractions_pattern = re.compile('({})'.format('|'.join(contraction_mapping.keys())), \n",
    "                                      flags=re.IGNORECASE|re.DOTALL)\n",
    "    def expand_match(contraction):\n",
    "        match = contraction.group(0)\n",
    "        first_char = match[0]\n",
    "        expanded_contraction = contraction_mapping.get(match)\\\n",
    "                                if contraction_mapping.get(match)\\\n",
    "                                else contraction_mapping.get(match.lower())                       \n",
    "        expanded_contraction = first_char+expanded_contraction[1:]\n",
    "        return expanded_contraction\n",
    "        \n",
    "    expanded_text = contractions_pattern.sub(expand_match, text)\n",
    "    expanded_text = re.sub(\"'\", \"\", expanded_text)\n",
    "    return expanded_text\n",
    "\n",
    "# standardized into ASCII characters. example) converting é to e\n",
    "def remove_accented_chars(text):\n",
    "    text = unicodedata.normalize('NFKD', text).encode('ascii', 'ignore').decode('utf-8', 'ignore')\n",
    "    return text \n",
    "\n",
    "# Special characters and symbols\n",
    "def remove_special_characters(text, remove_digits=False):\n",
    "    pattern = r'[^a-zA-z0-9\\s]' if not remove_digits else r'[^a-zA-z\\s]'\n",
    "    text = re.sub(pattern, '', text)\n",
    "    return text\n",
    "\n",
    "# JUMPS, JUMPED, and JUMPING -> JUMP\n",
    "# Multiple Stemmers : PorterStemmer, LancasterStemmer, SnowballStemmer WordNetLemmatizer\n",
    "def simple_stemmer(text):\n",
    "    ps = nltk.porter.PorterStemmer()\n",
    "    text = ' '.join([ps.stem(word) for word in text.split()])\n",
    "    return text\n",
    "\n",
    "def lemmatize_text(text):\n",
    "    text = nlp(text)\n",
    "    text = ' '.join([word.lemma_ if word.lemma_ != '-PRON-' else word.text for word in text])\n",
    "    return text\n",
    "\n",
    "\n",
    "def normalize_corpus(corpus, contraction_expansion=True,\n",
    "                     accented_char_removal=True, text_lower_case=True, \n",
    "                     text_lemmatization=True, special_char_removal=True, \n",
    "                     stopword_removal=True, remove_digits=True):\n",
    "    \n",
    "    normalized_corpus = []\n",
    "    # normalize each document in the corpus\n",
    "    for doc in corpus:\n",
    "        # remove accented characters\n",
    "        if accented_char_removal:\n",
    "            doc = remove_accented_chars(doc)\n",
    "        # expand contractions    \n",
    "        if contraction_expansion:\n",
    "            doc = expand_contractions(doc)\n",
    "        # lowercase the text    \n",
    "        if text_lower_case:\n",
    "            doc = doc.lower()\n",
    "        # remove extra newlines\n",
    "        doc = re.sub(r'[\\r|\\n|\\r\\n]+', ' ',doc)\n",
    "        # lemmatize text\n",
    "        if text_lemmatization:\n",
    "            doc = lemmatize_text(doc)\n",
    "        # remove special characters and\\or digits    \n",
    "        if special_char_removal:\n",
    "            # insert spaces between special characters to isolate them    \n",
    "            special_char_pattern = re.compile(r'([{.(-)!}])')\n",
    "            doc = special_char_pattern.sub(\" \\\\1 \", doc)\n",
    "            doc = remove_special_characters(doc, remove_digits=remove_digits)  \n",
    "        # remove extra whitespace\n",
    "        doc = re.sub(' +', ' ', doc)\n",
    "        # remove stopwords\n",
    "        if stopword_removal:\n",
    "            doc = remove_stopwords(doc, is_lower_case=text_lower_case)\n",
    "            \n",
    "        normalized_corpus.append(doc)\n",
    "        \n",
    "    return normalized_corpus"
   ]
  },
  {
   "cell_type": "markdown",
   "metadata": {
    "heading_collapsed": true
   },
   "source": [
    "# Data Cleaning"
   ]
  },
  {
   "cell_type": "code",
   "execution_count": 4,
   "metadata": {
    "ExecuteTime": {
     "end_time": "2019-09-25T23:54:26.517866Z",
     "start_time": "2019-09-25T23:54:26.495309Z"
    },
    "hidden": true
   },
   "outputs": [],
   "source": [
    "# read all pickle files from raw_data folder (raw data from web scraping)\n",
    "df_news_raw = pd.DataFrame()\n",
    "for file in glob.glob('raw_data/' + \"*\"):\n",
    "    df_news_raw = df_news_raw.append(pd.read_pickle(file), ignore_index=True)"
   ]
  },
  {
   "cell_type": "code",
   "execution_count": 5,
   "metadata": {
    "ExecuteTime": {
     "end_time": "2019-09-25T23:54:26.525834Z",
     "start_time": "2019-09-25T23:54:26.519248Z"
    },
    "hidden": true
   },
   "outputs": [
    {
     "name": "stdout",
     "output_type": "stream",
     "text": [
      "<class 'pandas.core.frame.DataFrame'>\n",
      "RangeIndex: 1797 entries, 0 to 1796\n",
      "Data columns (total 5 columns):\n",
      "publisher    1797 non-null object\n",
      "title        1797 non-null object\n",
      "intro        1797 non-null object\n",
      "link         1797 non-null object\n",
      "date         1797 non-null object\n",
      "dtypes: object(5)\n",
      "memory usage: 70.3+ KB\n"
     ]
    }
   ],
   "source": [
    "df_news_raw.info()"
   ]
  },
  {
   "cell_type": "code",
   "execution_count": 6,
   "metadata": {
    "ExecuteTime": {
     "end_time": "2019-09-25T23:54:26.532795Z",
     "start_time": "2019-09-25T23:54:26.527207Z"
    },
    "hidden": true
   },
   "outputs": [
    {
     "data": {
      "text/plain": [
       "Index(['publisher', 'title', 'intro', 'link', 'date'], dtype='object')"
      ]
     },
     "execution_count": 6,
     "metadata": {},
     "output_type": "execute_result"
    }
   ],
   "source": [
    "df_news_raw.columns"
   ]
  },
  {
   "cell_type": "code",
   "execution_count": 7,
   "metadata": {
    "ExecuteTime": {
     "end_time": "2019-09-25T23:54:26.541117Z",
     "start_time": "2019-09-25T23:54:26.535633Z"
    },
    "hidden": true
   },
   "outputs": [
    {
     "data": {
      "text/plain": [
       "South China Morning Post              356\n",
       "Global Times                          252\n",
       "Hong Kong Free Press                  237\n",
       "Xinhua                                143\n",
       "The New York Times                    116\n",
       "CNN                                   110\n",
       "BBC News                              109\n",
       "ABC News                               61\n",
       "The Washington Post                    58\n",
       "Shine News (press release)             52\n",
       "The Wall Street Journal                52\n",
       "Chinadaily USA                         41\n",
       "NBCNews.com                            29\n",
       "USA Today                              28\n",
       "Fox News                               28\n",
       "Wall Street Journal                    26\n",
       "Washington Post                        24\n",
       "MSNBC                                  22\n",
       "Hong Kong Standard (press release)     17\n",
       "CCTV                                   16\n",
       "CGTN America                            6\n",
       "USA TODAY                               4\n",
       "cgtn.com                                4\n",
       "CNN International                       3\n",
       "Wall Street Journal (blog)              2\n",
       "NBC News                                1\n",
       "Name: publisher, dtype: int64"
      ]
     },
     "execution_count": 7,
     "metadata": {},
     "output_type": "execute_result"
    }
   ],
   "source": [
    "# check publishers\n",
    "df_news_raw['publisher'].value_counts()"
   ]
  },
  {
   "cell_type": "code",
   "execution_count": 8,
   "metadata": {
    "ExecuteTime": {
     "end_time": "2019-09-25T23:54:26.546958Z",
     "start_time": "2019-09-25T23:54:26.542786Z"
    },
    "hidden": true
   },
   "outputs": [],
   "source": [
    "def update_publisher(x):\n",
    "    if x == 'USA TODAY':\n",
    "        return 'USA Today'\n",
    "    if x == 'NBC News':\n",
    "        return 'NBCNews'\n",
    "    if x == 'Wall Street Journal (blog)':\n",
    "        return 'The Wall Street Journal'\n",
    "    if x == 'CNN International':\n",
    "        return 'CNN'\n",
    "    if x == 'CGTN America':\n",
    "        return 'CGTN'\n",
    "    if x == 'cgtn.com':\n",
    "        return 'CGTN'    \n",
    "    if x == 'Hong Kong Standard (press release)':\n",
    "        return 'Hong Kong Standard'\n",
    "    if x == 'Shine News (press release)':\n",
    "        return 'Shine News'\n",
    "    if x == 'Wall Street Journal':\n",
    "        return 'The Wall Street Journal'\n",
    "    if x == 'Washington Post':\n",
    "        return 'The Washington Post'\n",
    "    if x == 'NBCNews.com':\n",
    "        return 'NBCNews'   \n",
    "    else:\n",
    "        return x"
   ]
  },
  {
   "cell_type": "code",
   "execution_count": 9,
   "metadata": {
    "ExecuteTime": {
     "end_time": "2019-09-25T23:54:26.554362Z",
     "start_time": "2019-09-25T23:54:26.549537Z"
    },
    "hidden": true
   },
   "outputs": [],
   "source": [
    "def add_regions(x):\n",
    "    if x == 'South China Morning Post':\n",
    "        return 'HK'\n",
    "    if x == 'Global Times':\n",
    "        return 'CN'\n",
    "    if x == 'Hong Kong Free Press':\n",
    "        return 'HK'\n",
    "    if x == 'Xinhua':\n",
    "        return 'CN'\n",
    "    if x == 'The New York Times':\n",
    "        return 'US'\n",
    "    if x == 'BBC News':\n",
    "        return 'UK'\n",
    "    if x == 'CNN':\n",
    "        return 'US'\n",
    "    if x == 'The Washington Post':\n",
    "        return 'US'\n",
    "    if x == 'ABC News':\n",
    "        return 'US'\n",
    "    if x == 'The Wall Street Journal':\n",
    "        return 'US'\n",
    "    if x == 'Shine News':\n",
    "        return 'CN'\n",
    "    if x == 'Chinadaily USA':\n",
    "        return 'CN'\n",
    "    if x == 'USA Today':\n",
    "        return 'US'\n",
    "    if x == 'NBCNews':\n",
    "        return 'US'\n",
    "    if x == 'Fox News':\n",
    "        return 'US'\n",
    "    if x == 'MSNBC':\n",
    "        return 'US'\n",
    "    if x == 'Hong Kong Standard':\n",
    "        return 'HK'\n",
    "    if x == 'CCTV':\n",
    "        return 'CN'\n",
    "    if x == 'CGTN':\n",
    "        return 'CN'   \n",
    "        "
   ]
  },
  {
   "cell_type": "code",
   "execution_count": 10,
   "metadata": {
    "ExecuteTime": {
     "end_time": "2019-09-25T23:54:26.560924Z",
     "start_time": "2019-09-25T23:54:26.555731Z"
    },
    "hidden": true
   },
   "outputs": [],
   "source": [
    "# update publisher column and add region to each headlines\n",
    "df_news_raw['publisher'] = df_news_raw['publisher'].apply(update_publisher)\n",
    "df_news_raw['region'] = df_news_raw['publisher'].apply(add_regions)"
   ]
  },
  {
   "cell_type": "code",
   "execution_count": 11,
   "metadata": {
    "ExecuteTime": {
     "end_time": "2019-09-25T23:54:26.566890Z",
     "start_time": "2019-09-25T23:54:26.562107Z"
    },
    "hidden": true
   },
   "outputs": [
    {
     "data": {
      "text/plain": [
       "HK    610\n",
       "US    564\n",
       "CN    514\n",
       "UK    109\n",
       "Name: region, dtype: int64"
      ]
     },
     "execution_count": 11,
     "metadata": {},
     "output_type": "execute_result"
    }
   ],
   "source": [
    "df_news_raw['region'].value_counts()"
   ]
  },
  {
   "cell_type": "code",
   "execution_count": 12,
   "metadata": {
    "ExecuteTime": {
     "end_time": "2019-09-25T23:54:26.570151Z",
     "start_time": "2019-09-25T23:54:26.568049Z"
    },
    "hidden": true
   },
   "outputs": [],
   "source": [
    "# label all rows that doesn't have \"hong\" in the headlines or intro\n",
    "# drop those rows because they are mostly not related to HK protest\n",
    "def Hong(x):\n",
    "    if 'Hong' in x.split():\n",
    "        return x\n",
    "    else:\n",
    "        return 'NO'"
   ]
  },
  {
   "cell_type": "code",
   "execution_count": 13,
   "metadata": {
    "ExecuteTime": {
     "end_time": "2019-09-25T23:54:44.392576Z",
     "start_time": "2019-09-25T23:54:26.571295Z"
    },
    "hidden": true
   },
   "outputs": [],
   "source": [
    "# Combine title & intro\n",
    "df_news_raw['title_intro'] = df_news_raw['title']+'. '+df_news_raw['intro']\n",
    "\n",
    "# Remove '\\n' from corpus\n",
    "df_news_raw['title_intro'] = df_news_raw['title_intro'].apply(lambda x : x.replace('\\n',''))\n",
    "\n",
    "df_news_raw = df_news_raw[df_news_raw['title_intro'].apply(Hong) != 'NO']\n",
    "\n",
    "# Apply various NLP processes in 'normalize_corpus function'\n",
    "df_news_raw['title_intro_clean']=normalize_corpus(df_news_raw['title_intro'],stopword_removal=False)"
   ]
  },
  {
   "cell_type": "code",
   "execution_count": 14,
   "metadata": {
    "ExecuteTime": {
     "end_time": "2019-09-25T23:54:44.400641Z",
     "start_time": "2019-09-25T23:54:44.393908Z"
    },
    "hidden": true
   },
   "outputs": [],
   "source": [
    "# Drop region=UK. We only focus on CN, US, and HK\n",
    "df_news_raw = df_news_raw[df_news_raw['region'] != 'UK']"
   ]
  },
  {
   "cell_type": "code",
   "execution_count": 15,
   "metadata": {
    "ExecuteTime": {
     "end_time": "2019-09-25T23:54:44.409133Z",
     "start_time": "2019-09-25T23:54:44.402211Z"
    },
    "hidden": true
   },
   "outputs": [],
   "source": [
    "df_news_raw.to_pickle('clean_data/df_news_raw')"
   ]
  },
  {
   "cell_type": "markdown",
   "metadata": {},
   "source": [
    "# Topic Modeling"
   ]
  },
  {
   "cell_type": "markdown",
   "metadata": {
    "heading_collapsed": true
   },
   "source": [
    "## CountVectorizer & NMF"
   ]
  },
  {
   "cell_type": "code",
   "execution_count": 16,
   "metadata": {
    "ExecuteTime": {
     "end_time": "2019-09-25T23:54:44.415347Z",
     "start_time": "2019-09-25T23:54:44.410453Z"
    },
    "hidden": true
   },
   "outputs": [],
   "source": [
    "df_news_clean = pd.read_pickle('clean_data/df_news_raw')"
   ]
  },
  {
   "cell_type": "code",
   "execution_count": 17,
   "metadata": {
    "ExecuteTime": {
     "end_time": "2019-09-25T23:54:44.557472Z",
     "start_time": "2019-09-25T23:54:44.416522Z"
    },
    "hidden": true,
    "scrolled": false
   },
   "outputs": [
    {
     "name": "stdout",
     "output_type": "stream",
     "text": [
      "Doc Shape :  (1594, 6899)\n"
     ]
    }
   ],
   "source": [
    "# Create vectorized matrix with stopword\n",
    "vectorizer = CountVectorizer(ngram_range=(1,2), stop_words=stopword_list, max_df=0.3, min_df=2)#,max_df=0.30, min_df=0.01)\n",
    "#vectorizer = CountVectorizer(ngram_range=(1, 2),stop_words=stopword_list,max_df=0.10,min_df=0.005)#,max_df=0.30, min_df=0.01)\n",
    "doc_word = vectorizer.fit_transform(df_news_clean['title_intro_clean'])\n",
    "\n",
    "print(\"Doc Shape : \",doc_word.shape)"
   ]
  },
  {
   "cell_type": "code",
   "execution_count": 18,
   "metadata": {
    "ExecuteTime": {
     "end_time": "2019-09-25T23:54:45.183883Z",
     "start_time": "2019-09-25T23:54:44.558797Z"
    },
    "hidden": true
   },
   "outputs": [
    {
     "data": {
      "image/png": "[encoded data removed]",
      "text/plain": [
       "<Figure size 432x288 with 1 Axes>"
      ]
     },
     "metadata": {
      "needs_background": "light"
     },
     "output_type": "display_data"
    }
   ],
   "source": [
    "# Define NMF model\n",
    "nmf_model = NMF(n_components=10, init='random', random_state=25) #init='random',\n",
    "doc_topics = nmf_model.fit_transform(doc_word)\n",
    "\n",
    "# Check cluster distribution\n",
    "doc_cluster = doc_topics.argmax(axis = 1)\n",
    "sns.barplot(x=pd.Series(doc_cluster).value_counts().keys(),y=pd.Series(doc_cluster).value_counts().values);"
   ]
  },
  {
   "cell_type": "code",
   "execution_count": 19,
   "metadata": {
    "ExecuteTime": {
     "end_time": "2019-09-25T23:54:45.203679Z",
     "start_time": "2019-09-25T23:54:45.186309Z"
    },
    "hidden": true,
    "scrolled": false
   },
   "outputs": [
    {
     "name": "stdout",
     "output_type": "stream",
     "text": [
      "\n",
      "Topic  0\n",
      "police, kong police, arrest, officer, say, use, police officer, clash, attack, police say, force, police arrest, people, station, arrest protester, police station, different, june, video, protester police\n",
      "\n",
      "Topic  1\n",
      "news, video, national, world, get, coverage, interview, top, online, break, find, abc news, abc, world news, exclusive, news broadcast, news online, national world, broadcast video, broadcast\n",
      "\n",
      "Topic  2\n",
      "airport, international, kong airport, flight, international airport, kong international, cancel, day, clash, cancel flight, airport cancel, second, monday, occupy, chaos, one, thousand, protester occupy, second day, cathay\n",
      "\n",
      "Topic  3\n",
      "hong kongs, kongs, kongs protest, business, week, storm, take, kongs protester, legislative, law, council, movement, young, day, legislative council, rule, people, pacific, cnn, may\n",
      "\n",
      "Topic  4\n",
      "violent, radical, violent protest, radical protester, violence, hk, chinese, violent protester, turn, people, protest hong, kong special, special, flag, act, month, turn violent, condemn, protester hong, region\n",
      "\n",
      "Topic  5\n",
      "extradition, bill, extradition bill, lam, carrie, carrie lam, leader, anti extradition, withdraw, anti, kong leader, bill protest, chief, month, demand, say, leader carrie, executive, chief executive, spark\n",
      "\n",
      "Topic  6\n",
      "government, anti, pro, democracy, anti government, kong protest, kong protester, support, pro democracy, chinese, china, say, student, call, beijing, movement, government protest, us, support hong, city\n",
      "\n",
      "Topic  7\n",
      "gas, tear, tear gas, police, fire, police fire, fire tear, kong protest, kong protester, water, kong police, riot, rubber, cannon, water cannon, rubber bullet, bullet, turn, gas rubber, round\n",
      "\n",
      "Topic  8\n",
      "street, wall, street journal, wall street, journal, kong protest, china, journal hong, leader, say, beijing, chinese, activist, new, trump, arrest, new york, york, time, york time\n",
      "\n",
      "Topic  9\n",
      "xinhua, news, english, xinhua english, cn, news cn, english news, condemn, chinas, hksar, govt, act, say, special, kong special, administrative, special administrative, hksar govt, chinas hong, violence\n"
     ]
    }
   ],
   "source": [
    "display_topics(nmf_model, vectorizer.get_feature_names(), 20)"
   ]
  },
  {
   "cell_type": "markdown",
   "metadata": {
    "heading_collapsed": true
   },
   "source": [
    "## Topics by Regions"
   ]
  },
  {
   "cell_type": "markdown",
   "metadata": {
    "hidden": true
   },
   "source": [
    "By looking at the NMF topic modeling result:\n",
    "These topics are the well defined one.\n",
    "- Topic 7 (police activities)\n",
    "- Topic 2 (airport close)\n",
    "- Topic 4 (violent protest)\n",
    "- Topic 6 (democracy)\n",
    "- Topic 5 (extradition bill)"
   ]
  },
  {
   "cell_type": "code",
   "execution_count": 20,
   "metadata": {
    "ExecuteTime": {
     "end_time": "2019-09-25T23:54:45.213249Z",
     "start_time": "2019-09-25T23:54:45.210162Z"
    },
    "hidden": true
   },
   "outputs": [],
   "source": [
    "# Created a topic column\n",
    "df_news_clean['topic'] = doc_topics.argmax(axis=1)"
   ]
  },
  {
   "cell_type": "code",
   "execution_count": 21,
   "metadata": {
    "ExecuteTime": {
     "end_time": "2019-09-25T23:54:45.237141Z",
     "start_time": "2019-09-25T23:54:45.215181Z"
    },
    "hidden": true
   },
   "outputs": [
    {
     "data": {
      "text/plain": [
       "6    0.304266\n",
       "0    0.143664\n",
       "3    0.113551\n",
       "4    0.105395\n",
       "5    0.094730\n",
       "2    0.072773\n",
       "9    0.048934\n",
       "8    0.046424\n",
       "7    0.046424\n",
       "1    0.023839\n",
       "Name: topic, dtype: float64"
      ]
     },
     "execution_count": 21,
     "metadata": {},
     "output_type": "execute_result"
    }
   ],
   "source": [
    "df_news_clean['topic'].value_counts(normalize=True)"
   ]
  },
  {
   "cell_type": "code",
   "execution_count": 22,
   "metadata": {
    "ExecuteTime": {
     "end_time": "2019-09-25T23:54:45.263488Z",
     "start_time": "2019-09-25T23:54:45.238558Z"
    },
    "hidden": true,
    "scrolled": true
   },
   "outputs": [],
   "source": [
    "#creat a table for topic 2,4,5,6,7 agg by percentage by regions\n",
    "topic_region = pd.DataFrame(df_news_clean[df_news_clean['topic'] == 2]['region'].value_counts(normalize=True))\n",
    "topic_region = topic_region.merge(df_news_clean[df_news_clean['topic'] == 4]['region'].value_counts(normalize=True), left_index=True,right_index=True)\n",
    "topic_region = topic_region.merge(df_news_clean[df_news_clean['topic'] == 5]['region'].value_counts(normalize=True), left_index=True,right_index=True)\n",
    "topic_region = topic_region.merge(df_news_clean[df_news_clean['topic'] == 6]['region'].value_counts(normalize=True), left_index=True,right_index=True)\n",
    "topic_region = topic_region.merge(df_news_clean[df_news_clean['topic'] == 7]['region'].value_counts(normalize=True), left_index=True,right_index=True)\n",
    "topic_region.columns = ['airport close','violent protest','extradition bill','democracy','police activities']"
   ]
  },
  {
   "cell_type": "code",
   "execution_count": 23,
   "metadata": {
    "ExecuteTime": {
     "end_time": "2019-09-25T23:54:45.273851Z",
     "start_time": "2019-09-25T23:54:45.264766Z"
    },
    "hidden": true
   },
   "outputs": [
    {
     "data": {
      "text/html": [
       "<div>\n",
       "<style scoped>\n",
       "    .dataframe tbody tr th:only-of-type {\n",
       "        vertical-align: middle;\n",
       "    }\n",
       "\n",
       "    .dataframe tbody tr th {\n",
       "        vertical-align: top;\n",
       "    }\n",
       "\n",
       "    .dataframe thead th {\n",
       "        text-align: right;\n",
       "    }\n",
       "</style>\n",
       "<table border=\"1\" class=\"dataframe\">\n",
       "  <thead>\n",
       "    <tr style=\"text-align: right;\">\n",
       "      <th></th>\n",
       "      <th>airport close</th>\n",
       "      <th>violent protest</th>\n",
       "      <th>extradition bill</th>\n",
       "      <th>democracy</th>\n",
       "      <th>police activities</th>\n",
       "    </tr>\n",
       "  </thead>\n",
       "  <tbody>\n",
       "    <tr>\n",
       "      <th>US</th>\n",
       "      <td>0.448276</td>\n",
       "      <td>0.059524</td>\n",
       "      <td>0.284768</td>\n",
       "      <td>0.410309</td>\n",
       "      <td>0.621622</td>\n",
       "    </tr>\n",
       "    <tr>\n",
       "      <th>CN</th>\n",
       "      <td>0.293103</td>\n",
       "      <td>0.857143</td>\n",
       "      <td>0.172185</td>\n",
       "      <td>0.158763</td>\n",
       "      <td>0.040541</td>\n",
       "    </tr>\n",
       "    <tr>\n",
       "      <th>HK</th>\n",
       "      <td>0.258621</td>\n",
       "      <td>0.083333</td>\n",
       "      <td>0.543046</td>\n",
       "      <td>0.430928</td>\n",
       "      <td>0.337838</td>\n",
       "    </tr>\n",
       "  </tbody>\n",
       "</table>\n",
       "</div>"
      ],
      "text/plain": [
       "    airport close  violent protest  extradition bill  democracy  \\\n",
       "US       0.448276         0.059524          0.284768   0.410309   \n",
       "CN       0.293103         0.857143          0.172185   0.158763   \n",
       "HK       0.258621         0.083333          0.543046   0.430928   \n",
       "\n",
       "    police activities  \n",
       "US           0.621622  \n",
       "CN           0.040541  \n",
       "HK           0.337838  "
      ]
     },
     "execution_count": 23,
     "metadata": {},
     "output_type": "execute_result"
    }
   ],
   "source": [
    "topic_region"
   ]
  },
  {
   "cell_type": "code",
   "execution_count": 24,
   "metadata": {
    "ExecuteTime": {
     "end_time": "2019-09-25T23:54:45.283002Z",
     "start_time": "2019-09-25T23:54:45.277443Z"
    },
    "hidden": true
   },
   "outputs": [],
   "source": [
    "topic_region.reset_index(inplace=True)\n",
    "topic_region_reshape = pd.melt(topic_region, id_vars='index', var_name=\"topic\", value_name=\"percentage\")"
   ]
  },
  {
   "cell_type": "code",
   "execution_count": 25,
   "metadata": {
    "ExecuteTime": {
     "end_time": "2019-09-25T23:54:45.291379Z",
     "start_time": "2019-09-25T23:54:45.284325Z"
    },
    "hidden": true
   },
   "outputs": [
    {
     "data": {
      "text/html": [
       "<div>\n",
       "<style scoped>\n",
       "    .dataframe tbody tr th:only-of-type {\n",
       "        vertical-align: middle;\n",
       "    }\n",
       "\n",
       "    .dataframe tbody tr th {\n",
       "        vertical-align: top;\n",
       "    }\n",
       "\n",
       "    .dataframe thead th {\n",
       "        text-align: right;\n",
       "    }\n",
       "</style>\n",
       "<table border=\"1\" class=\"dataframe\">\n",
       "  <thead>\n",
       "    <tr style=\"text-align: right;\">\n",
       "      <th></th>\n",
       "      <th>index</th>\n",
       "      <th>topic</th>\n",
       "      <th>percentage</th>\n",
       "    </tr>\n",
       "  </thead>\n",
       "  <tbody>\n",
       "    <tr>\n",
       "      <th>0</th>\n",
       "      <td>US</td>\n",
       "      <td>airport close</td>\n",
       "      <td>0.448276</td>\n",
       "    </tr>\n",
       "    <tr>\n",
       "      <th>1</th>\n",
       "      <td>CN</td>\n",
       "      <td>airport close</td>\n",
       "      <td>0.293103</td>\n",
       "    </tr>\n",
       "    <tr>\n",
       "      <th>2</th>\n",
       "      <td>HK</td>\n",
       "      <td>airport close</td>\n",
       "      <td>0.258621</td>\n",
       "    </tr>\n",
       "    <tr>\n",
       "      <th>3</th>\n",
       "      <td>US</td>\n",
       "      <td>violent protest</td>\n",
       "      <td>0.059524</td>\n",
       "    </tr>\n",
       "    <tr>\n",
       "      <th>4</th>\n",
       "      <td>CN</td>\n",
       "      <td>violent protest</td>\n",
       "      <td>0.857143</td>\n",
       "    </tr>\n",
       "    <tr>\n",
       "      <th>5</th>\n",
       "      <td>HK</td>\n",
       "      <td>violent protest</td>\n",
       "      <td>0.083333</td>\n",
       "    </tr>\n",
       "    <tr>\n",
       "      <th>6</th>\n",
       "      <td>US</td>\n",
       "      <td>extradition bill</td>\n",
       "      <td>0.284768</td>\n",
       "    </tr>\n",
       "    <tr>\n",
       "      <th>7</th>\n",
       "      <td>CN</td>\n",
       "      <td>extradition bill</td>\n",
       "      <td>0.172185</td>\n",
       "    </tr>\n",
       "    <tr>\n",
       "      <th>8</th>\n",
       "      <td>HK</td>\n",
       "      <td>extradition bill</td>\n",
       "      <td>0.543046</td>\n",
       "    </tr>\n",
       "    <tr>\n",
       "      <th>9</th>\n",
       "      <td>US</td>\n",
       "      <td>democracy</td>\n",
       "      <td>0.410309</td>\n",
       "    </tr>\n",
       "    <tr>\n",
       "      <th>10</th>\n",
       "      <td>CN</td>\n",
       "      <td>democracy</td>\n",
       "      <td>0.158763</td>\n",
       "    </tr>\n",
       "    <tr>\n",
       "      <th>11</th>\n",
       "      <td>HK</td>\n",
       "      <td>democracy</td>\n",
       "      <td>0.430928</td>\n",
       "    </tr>\n",
       "    <tr>\n",
       "      <th>12</th>\n",
       "      <td>US</td>\n",
       "      <td>police activities</td>\n",
       "      <td>0.621622</td>\n",
       "    </tr>\n",
       "    <tr>\n",
       "      <th>13</th>\n",
       "      <td>CN</td>\n",
       "      <td>police activities</td>\n",
       "      <td>0.040541</td>\n",
       "    </tr>\n",
       "    <tr>\n",
       "      <th>14</th>\n",
       "      <td>HK</td>\n",
       "      <td>police activities</td>\n",
       "      <td>0.337838</td>\n",
       "    </tr>\n",
       "  </tbody>\n",
       "</table>\n",
       "</div>"
      ],
      "text/plain": [
       "   index              topic  percentage\n",
       "0     US      airport close    0.448276\n",
       "1     CN      airport close    0.293103\n",
       "2     HK      airport close    0.258621\n",
       "3     US    violent protest    0.059524\n",
       "4     CN    violent protest    0.857143\n",
       "5     HK    violent protest    0.083333\n",
       "6     US   extradition bill    0.284768\n",
       "7     CN   extradition bill    0.172185\n",
       "8     HK   extradition bill    0.543046\n",
       "9     US          democracy    0.410309\n",
       "10    CN          democracy    0.158763\n",
       "11    HK          democracy    0.430928\n",
       "12    US  police activities    0.621622\n",
       "13    CN  police activities    0.040541\n",
       "14    HK  police activities    0.337838"
      ]
     },
     "execution_count": 25,
     "metadata": {},
     "output_type": "execute_result"
    }
   ],
   "source": [
    "topic_region_reshape"
   ]
  },
  {
   "cell_type": "code",
   "execution_count": 26,
   "metadata": {
    "ExecuteTime": {
     "end_time": "2019-09-25T23:54:45.890176Z",
     "start_time": "2019-09-25T23:54:45.293574Z"
    },
    "hidden": true
   },
   "outputs": [
    {
     "name": "stderr",
     "output_type": "stream",
     "text": [
      "/home/bchen/anaconda3/lib/python3.7/site-packages/seaborn/categorical.py:3666: UserWarning: The `factorplot` function has been renamed to `catplot`. The original name will be removed in a future release. Please update your code. Note that the default `kind` in `factorplot` (`'point'`) has changed `'strip'` in `catplot`.\n",
      "  warnings.warn(msg)\n"
     ]
    },
    {
     "data": {
      "text/plain": [
       "<Figure size 1800x1080 with 0 Axes>"
      ]
     },
     "metadata": {},
     "output_type": "display_data"
    },
    {
     "data": {
      "image/png": "[encoded data removed]",
      "text/plain": [
       "<Figure size 1800x360 with 5 Axes>"
      ]
     },
     "metadata": {
      "needs_background": "light"
     },
     "output_type": "display_data"
    }
   ],
   "source": [
    "plt.figure(figsize=(25,15))\n",
    "ax = sns.factorplot(\"index\", \"percentage\", col=\"topic\", data=topic_region_reshape, kind=\"bar\")\n",
    "ax.set(xlabel='region')\n",
    "plt.show()\n",
    "plt.show()"
   ]
  },
  {
   "cell_type": "markdown",
   "metadata": {
    "hidden": true
   },
   "source": [
    "- HK news outlets focus more 'extradition bill'. \n",
    "- US news outlets focus on pro democracy, and police activities \n",
    "- China news media focus on critize protesters violent\n",
    "- China news media does not talk about police actions\n"
   ]
  },
  {
   "cell_type": "markdown",
   "metadata": {},
   "source": [
    "# Sentiment Analysis"
   ]
  },
  {
   "cell_type": "markdown",
   "metadata": {
    "heading_collapsed": true
   },
   "source": [
    "## Add Sentiment Scores"
   ]
  },
  {
   "cell_type": "code",
   "execution_count": 27,
   "metadata": {
    "ExecuteTime": {
     "end_time": "2019-09-25T23:54:45.896031Z",
     "start_time": "2019-09-25T23:54:45.891560Z"
    },
    "hidden": true
   },
   "outputs": [
    {
     "data": {
      "text/plain": [
       "(1594, 9)"
      ]
     },
     "execution_count": 27,
     "metadata": {},
     "output_type": "execute_result"
    }
   ],
   "source": [
    "df_news_clean.shape"
   ]
  },
  {
   "cell_type": "code",
   "execution_count": 28,
   "metadata": {
    "ExecuteTime": {
     "end_time": "2019-09-25T23:54:45.906148Z",
     "start_time": "2019-09-25T23:54:45.897479Z"
    },
    "hidden": true
   },
   "outputs": [],
   "source": [
    "def countjj(x):\n",
    "    \"\"\"count total adjectives from the text\"\"\"\n",
    "    JJcount = 0\n",
    "    blob = TextBlob(x)\n",
    "    for word, tag in blob.tags:\n",
    "        if tag == 'JJ':\n",
    "            JJcount += 1\n",
    "    return JJcount\n",
    "\n",
    "\n",
    "def subjective_score(x):\n",
    "    \"\"\"find the subjectivity score from text\"\"\"\n",
    "    blob = TextBlob(x)\n",
    "    return blob.sentiment.subjectivity\n",
    "        "
   ]
  },
  {
   "cell_type": "code",
   "execution_count": 29,
   "metadata": {
    "ExecuteTime": {
     "end_time": "2019-09-25T23:54:47.398167Z",
     "start_time": "2019-09-25T23:54:45.908385Z"
    },
    "hidden": true
   },
   "outputs": [],
   "source": [
    "# Vader Sentiment Polarity\n",
    "analyser = SentimentIntensityAnalyzer()\n",
    "scores =[]\n",
    "for article in df_news_clean['title_intro']:\n",
    "    score = analyser.polarity_scores(article)\n",
    "    scores.append(score)\n",
    "df_sentiment = pd.DataFrame(scores) # Convert sentiment scores to dataframe\n",
    "\n",
    "# TextBlob Sentiment Polarity\n",
    "scores =[]\n",
    "for article in df_news_clean['title_intro']:\n",
    "    score = {'txtblob':np.round(TextBlob(article).sentiment.polarity,4)}\n",
    "    scores.append(score)\n",
    "df_sentiment_textblob = pd.DataFrame(scores) # Convert sentiment scores to dataframe\n",
    "\n",
    "# Concat Vader and TextBlob Sentiment DataFrames\n",
    "df_sentiment = pd.concat([df_sentiment,df_sentiment_textblob],axis=1)\n"
   ]
  },
  {
   "cell_type": "code",
   "execution_count": 30,
   "metadata": {
    "ExecuteTime": {
     "end_time": "2019-09-25T23:54:47.408986Z",
     "start_time": "2019-09-25T23:54:47.399541Z"
    },
    "hidden": true
   },
   "outputs": [
    {
     "name": "stdout",
     "output_type": "stream",
     "text": [
      "<class 'pandas.core.frame.DataFrame'>\n",
      "RangeIndex: 1594 entries, 0 to 1593\n",
      "Data columns (total 5 columns):\n",
      "compound    1594 non-null float64\n",
      "neg         1594 non-null float64\n",
      "neu         1594 non-null float64\n",
      "pos         1594 non-null float64\n",
      "txtblob     1594 non-null float64\n",
      "dtypes: float64(5)\n",
      "memory usage: 62.3 KB\n"
     ]
    }
   ],
   "source": [
    "df_sentiment.info()"
   ]
  },
  {
   "cell_type": "code",
   "execution_count": 31,
   "metadata": {
    "ExecuteTime": {
     "end_time": "2019-09-25T23:54:47.417051Z",
     "start_time": "2019-09-25T23:54:47.410607Z"
    },
    "hidden": true
   },
   "outputs": [],
   "source": [
    "# reset all index and merge orginal dataframe and sentiment scores\n",
    "df_news_clean.reset_index(drop=True, inplace=True)\n",
    "df_sentiment.reset_index(drop=True, inplace=True)\n",
    "df_news_sentiment= pd.concat([df_news_clean, df_sentiment], axis=1)"
   ]
  },
  {
   "cell_type": "code",
   "execution_count": 32,
   "metadata": {
    "ExecuteTime": {
     "end_time": "2019-09-25T23:54:51.716242Z",
     "start_time": "2019-09-25T23:54:47.418738Z"
    },
    "hidden": true
   },
   "outputs": [],
   "source": [
    "# add two columns: textblob subjectivity score and count of adjective\n",
    "df_news_sentiment['subjective_score'] = df_news_sentiment['title_intro'].apply(subjective_score)\n",
    "df_news_sentiment['adjective_count'] = df_news_sentiment['title_intro'].apply(countjj)"
   ]
  },
  {
   "cell_type": "code",
   "execution_count": 33,
   "metadata": {
    "ExecuteTime": {
     "end_time": "2019-09-25T23:54:51.725585Z",
     "start_time": "2019-09-25T23:54:51.717538Z"
    },
    "hidden": true
   },
   "outputs": [
    {
     "name": "stdout",
     "output_type": "stream",
     "text": [
      "<class 'pandas.core.frame.DataFrame'>\n",
      "RangeIndex: 1594 entries, 0 to 1593\n",
      "Data columns (total 16 columns):\n",
      "publisher            1594 non-null object\n",
      "title                1594 non-null object\n",
      "intro                1594 non-null object\n",
      "link                 1594 non-null object\n",
      "date                 1594 non-null object\n",
      "region               1594 non-null object\n",
      "title_intro          1594 non-null object\n",
      "title_intro_clean    1594 non-null object\n",
      "topic                1594 non-null int64\n",
      "compound             1594 non-null float64\n",
      "neg                  1594 non-null float64\n",
      "neu                  1594 non-null float64\n",
      "pos                  1594 non-null float64\n",
      "txtblob              1594 non-null float64\n",
      "subjective_score     1594 non-null float64\n",
      "adjective_count      1594 non-null int64\n",
      "dtypes: float64(6), int64(2), object(8)\n",
      "memory usage: 199.3+ KB\n"
     ]
    }
   ],
   "source": [
    "df_news_sentiment.info()"
   ]
  },
  {
   "cell_type": "markdown",
   "metadata": {
    "ExecuteTime": {
     "end_time": "2019-09-25T23:55:31.512713Z",
     "start_time": "2019-09-25T23:55:31.510500Z"
    },
    "heading_collapsed": true
   },
   "source": [
    "## Sentiment Analysis"
   ]
  },
  {
   "cell_type": "code",
   "execution_count": 34,
   "metadata": {
    "ExecuteTime": {
     "end_time": "2019-09-25T23:54:51.731706Z",
     "start_time": "2019-09-25T23:54:51.726838Z"
    },
    "hidden": true
   },
   "outputs": [],
   "source": [
    "df_sentiment_groupby = df_news_sentiment.groupby('publisher').agg({'subjective_score': 'mean', \n",
    "                        'compound': 'mean','txtblob':'mean'})"
   ]
  },
  {
   "cell_type": "code",
   "execution_count": 35,
   "metadata": {
    "ExecuteTime": {
     "end_time": "2019-09-25T23:54:51.739606Z",
     "start_time": "2019-09-25T23:54:51.733233Z"
    },
    "hidden": true
   },
   "outputs": [],
   "source": [
    "df_adjective_groupby = df_news_sentiment.groupby('publisher').agg({'adjective_count': 'mean'}).sort_values(\"adjective_count\")"
   ]
  },
  {
   "cell_type": "code",
   "execution_count": 36,
   "metadata": {
    "ExecuteTime": {
     "end_time": "2019-09-25T23:54:52.005633Z",
     "start_time": "2019-09-25T23:54:51.741303Z"
    },
    "hidden": true
   },
   "outputs": [
    {
     "data": {
      "text/plain": [
       "<matplotlib.axes._subplots.AxesSubplot at 0x7f9d65745320>"
      ]
     },
     "execution_count": 36,
     "metadata": {},
     "output_type": "execute_result"
    },
    {
     "data": {
      "image/png": "[encoded data removed]",
      "text/plain": [
       "<Figure size 1080x720 with 1 Axes>"
      ]
     },
     "metadata": {
      "needs_background": "light"
     },
     "output_type": "display_data"
    }
   ],
   "source": [
    "plt.figure(figsize=(15,10))\n",
    "sns.barplot(y=df_adjective_groupby.index, x=df_adjective_groupby.adjective_count)"
   ]
  },
  {
   "cell_type": "markdown",
   "metadata": {
    "ExecuteTime": {
     "end_time": "2019-09-25T23:57:52.381731Z",
     "start_time": "2019-09-25T23:57:52.378830Z"
    },
    "hidden": true
   },
   "source": [
    "From the above adjetive graph\n",
    "- Chinese news media use more adjectives\n",
    "- Fox News is the highest among US news outlets."
   ]
  },
  {
   "cell_type": "code",
   "execution_count": 37,
   "metadata": {
    "ExecuteTime": {
     "end_time": "2019-09-25T23:54:52.262014Z",
     "start_time": "2019-09-25T23:54:52.007098Z"
    },
    "hidden": true
   },
   "outputs": [
    {
     "data": {
      "image/png": "[encoded data removed]",
      "text/plain": [
       "<Figure size 1080x720 with 1 Axes>"
      ]
     },
     "metadata": {
      "needs_background": "light"
     },
     "output_type": "display_data"
    }
   ],
   "source": [
    "plt.rcParams['figure.figsize'] = [15, 10]\n",
    "\n",
    "for i, publisher in enumerate(df_sentiment_groupby.index):\n",
    "    x = df_sentiment_groupby.loc[publisher].values[1]\n",
    "    y = df_sentiment_groupby.loc[publisher].values[0]\n",
    "    plt.scatter(x, y, color='blue')\n",
    "    plt.text(x, y, df_sentiment_groupby.index[i], fontsize=13)\n",
    "    plt.xlim() \n",
    "    \n",
    "plt.title('Sentiment Analysis', fontsize=20, color='white')\n",
    "plt.xlabel('<-- Negative --------------- Positive -->', fontsize=15, )\n",
    "plt.ylabel('<-- Facts -------------- Opinions -->', fontsize=15,)\n",
    "\n",
    "plt.show()"
   ]
  },
  {
   "cell_type": "markdown",
   "metadata": {
    "hidden": true
   },
   "source": [
    "Looking at the above graph:\n",
    "\n",
    "- Chinese news outlets are more subjective than most of the others.\n",
    "- Chinese news outlets have higher negative scores than most of the others.\n",
    "- US and HK news outlets grouped in the middle."
   ]
  },
  {
   "cell_type": "code",
   "execution_count": null,
   "metadata": {
    "hidden": true
   },
   "outputs": [],
   "source": []
  }
 ],
 "metadata": {
  "kernelspec": {
   "display_name": "Python 3",
   "language": "python",
   "name": "python3"
  },
  "language_info": {
   "codemirror_mode": {
    "name": "ipython",
    "version": 3
   },
   "file_extension": ".py",
   "mimetype": "text/x-python",
   "name": "python",
   "nbconvert_exporter": "python",
   "pygments_lexer": "ipython3",
   "version": "3.7.3"
  },
  "toc": {
   "base_numbering": 1,
   "nav_menu": {},
   "number_sections": true,
   "sideBar": true,
   "skip_h1_title": false,
   "title_cell": "Table of Contents",
   "title_sidebar": "Contents",
   "toc_cell": false,
   "toc_position": {},
   "toc_section_display": true,
   "toc_window_display": false
  }
 },
 "nbformat": 4,
 "nbformat_minor": 2
}
