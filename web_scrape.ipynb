{
 "cells": [
  {
   "cell_type": "code",
   "execution_count": 1,
   "metadata": {
    "ExecuteTime": {
     "end_time": "2019-09-25T01:21:12.483620Z",
     "start_time": "2019-09-25T01:21:11.679468Z"
    }
   },
   "outputs": [],
   "source": [
    "# Web Scraping\n",
    "from bs4 import BeautifulSoup\n",
    "from lxml import html\n",
    "import requests\n",
    "\n",
    "import random\n",
    "import re\n",
    "import os\n",
    "import pandas as pd\n",
    "import numpy as np"
   ]
  },
  {
   "cell_type": "markdown",
   "metadata": {
    "heading_collapsed": true
   },
   "source": [
    "# 1) Web Scraping Google News"
   ]
  },
  {
   "cell_type": "markdown",
   "metadata": {
    "hidden": true
   },
   "source": [
    "Because google.com is so sensitive to web scraping, this became a very manual process.\n",
    "I scraped google news for 18 specify news outlets for two months on HK protest related headlines+Description.\n",
    "\n",
    "For each news outlets:\n",
    "- seach words: protest protests protester protesters + \"hong kong\" site: news outlet websit\n",
    "- set news date range 7/1 - 7/31 and 8/1 - 8/31\n",
    "- Copy the url for result page to url cell below\n",
    "- build a panads dataframe for each new outlet and pickle it."
   ]
  },
  {
   "cell_type": "code",
   "execution_count": 2,
   "metadata": {
    "ExecuteTime": {
     "end_time": "2019-09-25T01:21:19.031425Z",
     "start_time": "2019-09-25T01:21:19.022550Z"
    },
    "hidden": true
   },
   "outputs": [],
   "source": [
    "# Function to read html, scape the data, and form dataframe\n",
    "def scape_page(url):\n",
    "    user_agent_list = [\n",
    "       #Chrome\n",
    "        'Mozilla/5.0 (Windows NT 10.0; Win64; x64) AppleWebKit/537.36 (KHTML, like Gecko) Chrome/60.0.3112.113 Safari/537.36',\n",
    "        'Mozilla/5.0 (Windows NT 6.1; Win64; x64) AppleWebKit/537.36 (KHTML, like Gecko) Chrome/60.0.3112.90 Safari/537.36',\n",
    "        'Mozilla/5.0 (Windows NT 5.1; Win64; x64) AppleWebKit/537.36 (KHTML, like Gecko) Chrome/60.0.3112.90 Safari/537.36',\n",
    "        'Mozilla/5.0 (Windows NT 6.2; Win64; x64) AppleWebKit/537.36 (KHTML, like Gecko) Chrome/60.0.3112.90 Safari/537.36',\n",
    "        'Mozilla/5.0 (X11; Linux x86_64) AppleWebKit/537.36 (KHTML, like Gecko) Chrome/44.0.2403.157 Safari/537.36',\n",
    "        'Mozilla/5.0 (Windows NT 6.3; Win64; x64) AppleWebKit/537.36 (KHTML, like Gecko) Chrome/60.0.3112.113 Safari/537.36',\n",
    "        'Mozilla/5.0 (Windows NT 10.0; Win64; x64) AppleWebKit/537.36 (KHTML, like Gecko) Chrome/57.0.2987.133 Safari/537.36',\n",
    "        'Mozilla/5.0 (Windows NT 6.1; Win64; x64) AppleWebKit/537.36 (KHTML, like Gecko) Chrome/57.0.2987.133 Safari/537.36',\n",
    "        'Mozilla/5.0 (Windows NT 10.0; Win64; x64) AppleWebKit/537.36 (KHTML, like Gecko) Chrome/55.0.2883.87 Safari/537.36',\n",
    "        'Mozilla/5.0 (Windows NT 6.1; Win64; x64) AppleWebKit/537.36 (KHTML, like Gecko) Chrome/55.0.2883.87 Safari/537.36',\n",
    "         ]\n",
    "    \n",
    "    url = url+\"&num=100\" #show 100 headlines on the page\n",
    "    headers = {\"User-Agent\":random.choice(user_agent_list)}\n",
    "    response = requests.get(url,headers=headers)\n",
    "    print(response.status_code)\n",
    "    page = response.text\n",
    "    soup = BeautifulSoup(page, \"lxml\")\n",
    "    publishers = []\n",
    "    titles = []\n",
    "    intros = []\n",
    "    links = []\n",
    "    dates = []  \n",
    "    # Append data to list\n",
    "    publishers += [publisher.text for publisher in soup.find_all('div', attrs = {'class': 'pDavDe RGRr8e'})]\n",
    "    titles += [title.text for title in soup.find_all('div', attrs = {'class': 'phYMDf nDgy9d'})]\n",
    "    intros += [intro.text for intro in soup.find_all('div', attrs = {'class': 'eYN3rb'})]\n",
    "    links += [link.get('href') for link in soup.find_all('a', style=\"text-decoration:none;display:block\")]\n",
    "    dates += [date.text for date in soup.find_all('span', attrs = {'class':\"eNg7of\"})]\n",
    "\n",
    "    # Turn data into DataFrame\n",
    "\n",
    "    news_dict = {'publisher':publishers,'title':titles,'intro':intros,'link':links,'date':dates}\n",
    "    news_dict_df = pd.DataFrame(news_dict)\n",
    "    return news_dict_df"
   ]
  },
  {
   "cell_type": "code",
   "execution_count": 3,
   "metadata": {
    "ExecuteTime": {
     "end_time": "2019-09-25T01:21:21.940465Z",
     "start_time": "2019-09-25T01:21:21.937174Z"
    },
    "hidden": true
   },
   "outputs": [],
   "source": [
    "# Create a new variable for each news outlet\n",
    "wsj_df = pd.DataFrame()"
   ]
  },
  {
   "cell_type": "code",
   "execution_count": 4,
   "metadata": {
    "ExecuteTime": {
     "end_time": "2019-09-25T01:21:22.455926Z",
     "start_time": "2019-09-25T01:21:22.452217Z"
    },
    "hidden": true
   },
   "outputs": [],
   "source": [
    "# update the url for each each seach result page\n",
    "url = 'https://www.google.com/search?biw=1920&bih=1066&tbs=cdr%3A1%2Ccd_min%3A7%2F1%2F2019%2Ccd_max%3A8%2F9%2F2019&tbm=nws&sxsrf=ACYBGNQlIPnGPOcbx8VtOshPF4hPgTm8JQ%3A1568087465789&ei=qR13XbfqL4KY_QaI-qeYCg&q=protest%7Cprotests%7Cprotester%7Cprotesters+%22hong+kong%22+site%3Awsj.com&oq=protest%7Cprotests%7Cprotester%7Cprotesters+%22hong+kong%22+site%3Awsj.com&gs_l=psy-ab.12...0.0.0.17425.0.0.0.0.0.0.0.0..0.0....0...1c..64.psy-ab..0.0.0....0.OXoGj9YrMW0'"
   ]
  },
  {
   "cell_type": "code",
   "execution_count": 5,
   "metadata": {
    "ExecuteTime": {
     "end_time": "2019-09-25T01:21:24.735006Z",
     "start_time": "2019-09-25T01:21:23.798240Z"
    },
    "hidden": true
   },
   "outputs": [
    {
     "name": "stdout",
     "output_type": "stream",
     "text": [
      "200\n"
     ]
    },
    {
     "data": {
      "text/plain": [
       "(100, 5)"
      ]
     },
     "execution_count": 5,
     "metadata": {},
     "output_type": "execute_result"
    }
   ],
   "source": [
    "# run the function above and create a temporarily dataframe to hold the new data from web.\n",
    "temp_df = scape_page(url)\n",
    "temp_df.shape"
   ]
  },
  {
   "cell_type": "code",
   "execution_count": 6,
   "metadata": {
    "ExecuteTime": {
     "end_time": "2019-09-25T01:21:54.970201Z",
     "start_time": "2019-09-25T01:21:54.964304Z"
    },
    "hidden": true,
    "scrolled": true
   },
   "outputs": [
    {
     "data": {
      "text/plain": [
       "(100, 5)"
      ]
     },
     "execution_count": 6,
     "metadata": {},
     "output_type": "execute_result"
    }
   ],
   "source": [
    "# Append the temp dataframe into the news outlet dataframe\n",
    "wsj_df = wsj_df.append(temp_df, ignore_index=True)\n",
    "wsj_df.shape"
   ]
  },
  {
   "cell_type": "code",
   "execution_count": 7,
   "metadata": {
    "ExecuteTime": {
     "end_time": "2019-09-25T01:21:58.991621Z",
     "start_time": "2019-09-25T01:21:58.960019Z"
    },
    "hidden": true
   },
   "outputs": [
    {
     "data": {
      "text/html": [
       "<div>\n",
       "<style scoped>\n",
       "    .dataframe tbody tr th:only-of-type {\n",
       "        vertical-align: middle;\n",
       "    }\n",
       "\n",
       "    .dataframe tbody tr th {\n",
       "        vertical-align: top;\n",
       "    }\n",
       "\n",
       "    .dataframe thead th {\n",
       "        text-align: right;\n",
       "    }\n",
       "</style>\n",
       "<table border=\"1\" class=\"dataframe\">\n",
       "  <thead>\n",
       "    <tr style=\"text-align: right;\">\n",
       "      <th></th>\n",
       "      <th>publisher</th>\n",
       "      <th>title</th>\n",
       "      <th>intro</th>\n",
       "      <th>link</th>\n",
       "      <th>date</th>\n",
       "    </tr>\n",
       "  </thead>\n",
       "  <tbody>\n",
       "    <tr>\n",
       "      <th>0</th>\n",
       "      <td>Wall Street Journal</td>\n",
       "      <td>Hong Kong Protests Boil Over After Activists O...</td>\n",
       "      <td>HONG KONG—Protesters smashed wall-size windows...</td>\n",
       "      <td>https://www.wsj.com/articles/hong-kong-braces-...</td>\n",
       "      <td>Jul 2, 2019</td>\n",
       "    </tr>\n",
       "    <tr>\n",
       "      <th>1</th>\n",
       "      <td>Wall Street Journal</td>\n",
       "      <td>Parts of Hong Kong Paralyzed by Protests After...</td>\n",
       "      <td>Parts of Hong Kong Paralyzed by Protests After...</td>\n",
       "      <td>https://www.wsj.com/articles/hong-kong-protest...</td>\n",
       "      <td>Jul 28, 2019</td>\n",
       "    </tr>\n",
       "    <tr>\n",
       "      <th>2</th>\n",
       "      <td>Wall Street Journal</td>\n",
       "      <td>China Warns Hong Kong Protesters, Signals Grow...</td>\n",
       "      <td>BEIJING—China's top office for Hong Kong affai...</td>\n",
       "      <td>https://www.wsj.com/articles/china-vows-to-pun...</td>\n",
       "      <td>1 month ago</td>\n",
       "    </tr>\n",
       "    <tr>\n",
       "      <th>3</th>\n",
       "      <td>Wall Street Journal</td>\n",
       "      <td>China Claims U.S. ‘Black Hand’ Is Behind Hong ...</td>\n",
       "      <td>China ratcheted up its accusations of U.S. inv...</td>\n",
       "      <td>https://www.wsj.com/articles/china-claims-u-s-...</td>\n",
       "      <td>1 month ago</td>\n",
       "    </tr>\n",
       "    <tr>\n",
       "      <th>4</th>\n",
       "      <td>Wall Street Journal</td>\n",
       "      <td>China’s State Media Show Hong Kong Protest Ima...</td>\n",
       "      <td>China's State Media Show Hong Kong Protest Ima...</td>\n",
       "      <td>https://www.wsj.com/articles/china-lets-hong-k...</td>\n",
       "      <td>Jul 22, 2019</td>\n",
       "    </tr>\n",
       "  </tbody>\n",
       "</table>\n",
       "</div>"
      ],
      "text/plain": [
       "             publisher                                              title  \\\n",
       "0  Wall Street Journal  Hong Kong Protests Boil Over After Activists O...   \n",
       "1  Wall Street Journal  Parts of Hong Kong Paralyzed by Protests After...   \n",
       "2  Wall Street Journal  China Warns Hong Kong Protesters, Signals Grow...   \n",
       "3  Wall Street Journal  China Claims U.S. ‘Black Hand’ Is Behind Hong ...   \n",
       "4  Wall Street Journal  China’s State Media Show Hong Kong Protest Ima...   \n",
       "\n",
       "                                               intro  \\\n",
       "0  HONG KONG—Protesters smashed wall-size windows...   \n",
       "1  Parts of Hong Kong Paralyzed by Protests After...   \n",
       "2  BEIJING—China's top office for Hong Kong affai...   \n",
       "3  China ratcheted up its accusations of U.S. inv...   \n",
       "4  China's State Media Show Hong Kong Protest Ima...   \n",
       "\n",
       "                                                link          date  \n",
       "0  https://www.wsj.com/articles/hong-kong-braces-...   Jul 2, 2019  \n",
       "1  https://www.wsj.com/articles/hong-kong-protest...  Jul 28, 2019  \n",
       "2  https://www.wsj.com/articles/china-vows-to-pun...   1 month ago  \n",
       "3  https://www.wsj.com/articles/china-claims-u-s-...   1 month ago  \n",
       "4  https://www.wsj.com/articles/china-lets-hong-k...  Jul 22, 2019  "
      ]
     },
     "execution_count": 7,
     "metadata": {},
     "output_type": "execute_result"
    }
   ],
   "source": [
    "# Check the dataframe\n",
    "wsj_df.head(5)"
   ]
  },
  {
   "cell_type": "code",
   "execution_count": 8,
   "metadata": {
    "ExecuteTime": {
     "end_time": "2019-09-25T01:22:07.650999Z",
     "start_time": "2019-09-25T01:22:07.649576Z"
    },
    "hidden": true
   },
   "outputs": [],
   "source": [
    "# pickle the dataframe for each news outlet\n",
    "wsj_df.to_pickle('raw_data/wsj_us')"
   ]
  },
  {
   "cell_type": "markdown",
   "metadata": {
    "heading_collapsed": true
   },
   "source": [
    "# 2) NewsAPI"
   ]
  },
  {
   "cell_type": "markdown",
   "metadata": {
    "hidden": true
   },
   "source": [
    "Secondary data source for headlines and intro if Google News is not showing enough amount of results."
   ]
  },
  {
   "cell_type": "code",
   "execution_count": 8,
   "metadata": {
    "ExecuteTime": {
     "end_time": "2019-09-25T15:27:57.273092Z",
     "start_time": "2019-09-25T15:27:57.270550Z"
    },
    "hidden": true
   },
   "outputs": [],
   "source": [
    "import pandas as pd\n",
    "import numpy as np\n",
    "from newsapi import NewsApiClient\n",
    "api_key='you api key here'\n",
    "newsapi = NewsApiClient(api_key='api_key')"
   ]
  },
  {
   "cell_type": "code",
   "execution_count": 3,
   "metadata": {
    "ExecuteTime": {
     "end_time": "2019-09-25T15:26:20.727303Z",
     "start_time": "2019-09-25T15:26:20.725400Z"
    },
    "hidden": true
   },
   "outputs": [],
   "source": [
    "#To check what news sources the api includes.\n",
    "#print(newsapi.get_sources())"
   ]
  },
  {
   "cell_type": "code",
   "execution_count": 9,
   "metadata": {
    "ExecuteTime": {
     "end_time": "2019-09-25T15:28:07.425015Z",
     "start_time": "2019-09-25T15:28:06.945164Z"
    },
    "hidden": true
   },
   "outputs": [],
   "source": [
    "#q='(protest OR protests OR protester OR protesters)+\"hong kong\"'\n",
    "# call API\n",
    "all_articles = newsapi.get_everything(q='(protest OR protests OR protester OR protesters)+\"hong kong\"',\n",
    "                                      sources='the-wall-street-journal',\n",
    "                                      #domains='https://news.google.com',\n",
    "                                      from_param='2019-08-25',\n",
    "                                      to='2019-09-20',\n",
    "                                      language='en',\n",
    "                                      sort_by='publishedAt',\n",
    "                                      page_size=100,\n",
    "                                      page=None)"
   ]
  },
  {
   "cell_type": "code",
   "execution_count": 14,
   "metadata": {
    "ExecuteTime": {
     "end_time": "2019-09-25T15:29:37.069125Z",
     "start_time": "2019-09-25T15:29:37.063434Z"
    },
    "hidden": true
   },
   "outputs": [
    {
     "data": {
      "text/plain": [
       "34"
      ]
     },
     "execution_count": 14,
     "metadata": {},
     "output_type": "execute_result"
    }
   ],
   "source": [
    "all_articles['totalResults']"
   ]
  },
  {
   "cell_type": "code",
   "execution_count": 15,
   "metadata": {
    "ExecuteTime": {
     "end_time": "2019-09-25T15:31:08.696017Z",
     "start_time": "2019-09-25T15:31:08.690215Z"
    },
    "hidden": true
   },
   "outputs": [],
   "source": [
    "def news_table(all_articles):\n",
    "    \"\"\"Returns dataframe using the API result\"\"\"\n",
    "    publishers = []\n",
    "    titles = []\n",
    "    intros = []\n",
    "    links = []\n",
    "    dates = [] \n",
    "    for a in all_articles['articles']:\n",
    "        publishers.append(a['source']['name'])\n",
    "        titles.append(a['title'])\n",
    "        intros.append(a['description'])\n",
    "        links.append(a['url'])\n",
    "        dates.append(a['publishedAt'])\n",
    "    news_dict = {'publisher':publishers,'title':titles,'intro':intros,'link':links,'date':dates}\n",
    "    news_dict_df = pd.DataFrame(news_dict)\n",
    "    return news_dict_df"
   ]
  },
  {
   "cell_type": "code",
   "execution_count": 16,
   "metadata": {
    "ExecuteTime": {
     "end_time": "2019-09-25T15:31:19.201358Z",
     "start_time": "2019-09-25T15:31:19.191420Z"
    },
    "hidden": true
   },
   "outputs": [],
   "source": [
    "wsj_df = news_table(all_articles)"
   ]
  },
  {
   "cell_type": "code",
   "execution_count": 17,
   "metadata": {
    "ExecuteTime": {
     "end_time": "2019-09-25T15:31:24.212460Z",
     "start_time": "2019-09-25T15:31:24.194324Z"
    },
    "hidden": true
   },
   "outputs": [
    {
     "data": {
      "text/html": [
       "<div>\n",
       "<style scoped>\n",
       "    .dataframe tbody tr th:only-of-type {\n",
       "        vertical-align: middle;\n",
       "    }\n",
       "\n",
       "    .dataframe tbody tr th {\n",
       "        vertical-align: top;\n",
       "    }\n",
       "\n",
       "    .dataframe thead th {\n",
       "        text-align: right;\n",
       "    }\n",
       "</style>\n",
       "<table border=\"1\" class=\"dataframe\">\n",
       "  <thead>\n",
       "    <tr style=\"text-align: right;\">\n",
       "      <th></th>\n",
       "      <th>publisher</th>\n",
       "      <th>title</th>\n",
       "      <th>intro</th>\n",
       "      <th>link</th>\n",
       "      <th>date</th>\n",
       "    </tr>\n",
       "  </thead>\n",
       "  <tbody>\n",
       "    <tr>\n",
       "      <th>0</th>\n",
       "      <td>The Wall Street Journal</td>\n",
       "      <td>'You Don't Have to Face It Alone.' Hong Kong P...</td>\n",
       "      <td>'You Don't Have to Face It Alone.' Hong Kong P...</td>\n",
       "      <td>https://www.wsj.com/articles/you-dont-have-to-...</td>\n",
       "      <td>2019-09-20T14:32:00Z</td>\n",
       "    </tr>\n",
       "    <tr>\n",
       "      <th>1</th>\n",
       "      <td>The Wall Street Journal</td>\n",
       "      <td>FedEx Pilot Detained by Police in Southern Chi...</td>\n",
       "      <td>FedEx Pilot Detained by Police in Southern Chi...</td>\n",
       "      <td>https://www.wsj.com/articles/fedex-pilot-detai...</td>\n",
       "      <td>2019-09-19T15:26:00Z</td>\n",
       "    </tr>\n",
       "    <tr>\n",
       "      <th>2</th>\n",
       "      <td>The Wall Street Journal</td>\n",
       "      <td>Bud Brewer Takes Another Shot at Asian IPO Aft...</td>\n",
       "      <td>Bud Brewer Takes Another Shot at Asian IPO Aft...</td>\n",
       "      <td>https://www.wsj.com/articles/budweiser-brewer-...</td>\n",
       "      <td>2019-09-17T11:37:00Z</td>\n",
       "    </tr>\n",
       "    <tr>\n",
       "      <th>3</th>\n",
       "      <td>The Wall Street Journal</td>\n",
       "      <td>U.S. Stocks Retreat as Oil Prices Surge - The ...</td>\n",
       "      <td>U.S. Stocks Retreat as Oil Prices Surge The Wa...</td>\n",
       "      <td>https://www.wsj.com/articles/u-s-stock-futures...</td>\n",
       "      <td>2019-09-16T13:38:00Z</td>\n",
       "    </tr>\n",
       "    <tr>\n",
       "      <th>4</th>\n",
       "      <td>The Wall Street Journal</td>\n",
       "      <td>How Hong Kong Protesters Evade Authorities Wit...</td>\n",
       "      <td>Protesters in Hong Kong fear they are being mo...</td>\n",
       "      <td>https://www.wsj.com/video/how-hong-kong-protes...</td>\n",
       "      <td>2019-09-16T09:30:00Z</td>\n",
       "    </tr>\n",
       "  </tbody>\n",
       "</table>\n",
       "</div>"
      ],
      "text/plain": [
       "                 publisher                                              title  \\\n",
       "0  The Wall Street Journal  'You Don't Have to Face It Alone.' Hong Kong P...   \n",
       "1  The Wall Street Journal  FedEx Pilot Detained by Police in Southern Chi...   \n",
       "2  The Wall Street Journal  Bud Brewer Takes Another Shot at Asian IPO Aft...   \n",
       "3  The Wall Street Journal  U.S. Stocks Retreat as Oil Prices Surge - The ...   \n",
       "4  The Wall Street Journal  How Hong Kong Protesters Evade Authorities Wit...   \n",
       "\n",
       "                                               intro  \\\n",
       "0  'You Don't Have to Face It Alone.' Hong Kong P...   \n",
       "1  FedEx Pilot Detained by Police in Southern Chi...   \n",
       "2  Bud Brewer Takes Another Shot at Asian IPO Aft...   \n",
       "3  U.S. Stocks Retreat as Oil Prices Surge The Wa...   \n",
       "4  Protesters in Hong Kong fear they are being mo...   \n",
       "\n",
       "                                                link                  date  \n",
       "0  https://www.wsj.com/articles/you-dont-have-to-...  2019-09-20T14:32:00Z  \n",
       "1  https://www.wsj.com/articles/fedex-pilot-detai...  2019-09-19T15:26:00Z  \n",
       "2  https://www.wsj.com/articles/budweiser-brewer-...  2019-09-17T11:37:00Z  \n",
       "3  https://www.wsj.com/articles/u-s-stock-futures...  2019-09-16T13:38:00Z  \n",
       "4  https://www.wsj.com/video/how-hong-kong-protes...  2019-09-16T09:30:00Z  "
      ]
     },
     "execution_count": 17,
     "metadata": {},
     "output_type": "execute_result"
    }
   ],
   "source": [
    "wsj_df.head()"
   ]
  },
  {
   "cell_type": "code",
   "execution_count": 18,
   "metadata": {
    "ExecuteTime": {
     "end_time": "2019-09-25T15:31:52.260883Z",
     "start_time": "2019-09-25T15:31:52.254074Z"
    },
    "hidden": true
   },
   "outputs": [
    {
     "data": {
      "text/plain": [
       "(34, 5)"
      ]
     },
     "execution_count": 18,
     "metadata": {},
     "output_type": "execute_result"
    }
   ],
   "source": [
    "wsj_df.shape"
   ]
  },
  {
   "cell_type": "code",
   "execution_count": 19,
   "metadata": {
    "ExecuteTime": {
     "end_time": "2019-09-25T15:32:39.759303Z",
     "start_time": "2019-09-25T15:32:39.753609Z"
    },
    "hidden": true
   },
   "outputs": [],
   "source": [
    "#Combine with the wsj pickle from google news\n",
    "wsj_df = wsj_df.append(pd.read_pickle('datapickle/wsj_us'), ignore_index=True)"
   ]
  },
  {
   "cell_type": "code",
   "execution_count": 20,
   "metadata": {
    "ExecuteTime": {
     "end_time": "2019-09-25T15:32:44.205962Z",
     "start_time": "2019-09-25T15:32:44.203741Z"
    },
    "hidden": true
   },
   "outputs": [],
   "source": [
    "wsj_df.to_pickle('datapickle/wsj_us')"
   ]
  },
  {
   "cell_type": "code",
   "execution_count": null,
   "metadata": {
    "hidden": true
   },
   "outputs": [],
   "source": []
  }
 ],
 "metadata": {
  "kernelspec": {
   "display_name": "Python 3",
   "language": "python",
   "name": "python3"
  },
  "language_info": {
   "codemirror_mode": {
    "name": "ipython",
    "version": 3
   },
   "file_extension": ".py",
   "mimetype": "text/x-python",
   "name": "python",
   "nbconvert_exporter": "python",
   "pygments_lexer": "ipython3",
   "version": "3.7.3"
  }
 },
 "nbformat": 4,
 "nbformat_minor": 2
}
